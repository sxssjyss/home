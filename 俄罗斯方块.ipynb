{
  "nbformat": 4,
  "nbformat_minor": 0,
  "metadata": {
    "colab": {
      "provenance": [],
      "authorship_tag": "ABX9TyPQYN554MavGOY6lfr5OSXO",
      "include_colab_link": true
    },
    "kernelspec": {
      "name": "python3",
      "display_name": "Python 3"
    },
    "language_info": {
      "name": "python"
    }
  },
  "cells": [
    {
      "cell_type": "markdown",
      "metadata": {
        "id": "view-in-github",
        "colab_type": "text"
      },
      "source": [
        "<a href=\"https://colab.research.google.com/github/sxssjyss/home/blob/main/%E4%BF%84%E7%BD%97%E6%96%AF%E6%96%B9%E5%9D%97.ipynb\" target=\"_parent\"><img src=\"https://colab.research.google.com/assets/colab-badge.svg\" alt=\"Open In Colab\"/></a>"
      ]
    },
    {
      "cell_type": "code",
      "source": [
        "pip install pygame"
      ],
      "metadata": {
        "id": "EmjbLD2yOQpd"
      },
      "execution_count": null,
      "outputs": []
    },
    {
      "cell_type": "code",
      "execution_count": 1,
      "metadata": {
        "colab": {
          "base_uri": "https://localhost:8080/"
        },
        "id": "VzXTEISRHJkL",
        "outputId": "300c234b-9d5d-48a3-db9e-a9e3fa8662bd"
      },
      "outputs": [
        {
          "output_type": "stream",
          "name": "stdout",
          "text": [
            "pygame 2.5.2 (SDL 2.28.2, Python 3.10.12)\n",
            "Hello from the pygame community. https://www.pygame.org/contribute.html\n"
          ]
        }
      ],
      "source": [
        "\n",
        "import pygame\n",
        "import random\n",
        "# 初始化pygame\n",
        "pygame.init()\n",
        "\n",
        "# 游戏参数\n",
        "WIDTH, HEIGHT = 300, 600\n",
        "BLOCK_SIZE = 30\n",
        "WHITE = (255, 255, 255)\n",
        "\n",
        "# 初始化窗口\n",
        "win = pygame.display.set_mode((WIDTH, HEIGHT))\n",
        "pygame.display.set_caption(\"俄罗斯方块\")\n",
        "\n",
        "# 定义俄罗斯方块形状\n",
        "shapes = [\n",
        "    [[1, 1, 1, 1]],  # 长条形\n",
        "    [[1, 1], [1, 1]],  # 方块\n",
        "    [[1, 1, 1], [0, 1, 0]],  # T形\n",
        "    [[1, 1, 0], [0, 1, 1]],  # Z形\n",
        "    [[0, 1, 1], [1, 1, 0]],  # 反Z形\n",
        "    [[1, 1, 1], [1, 0, 0]],  # L形\n",
        "    [[1, 1, 1], [0, 0, 1]]  # 反L形\n",
        "]\n",
        "\n",
        "# 初始化游戏区域\n",
        "grid = [[0] * (WIDTH // BLOCK_SIZE) for _ in range(HEIGHT // BLOCK_SIZE)]\n",
        "\n",
        "# 定义一个俄罗斯方块类\n",
        "class Tetromino:\n",
        "    def __init__(self, x, y):\n",
        "        self.x = x\n",
        "        self.y = y\n",
        "        self.shape = random.choice(shapes)\n",
        "        self.color = (random.randint(0, 255), random.randint(0, 255), random.randint(0, 255))\n",
        "\n",
        "    def draw(self):\n",
        "        for row in range(len(self.shape)):\n",
        "            for col in range(len(self.shape[row])):\n",
        "                if self.shape[row][col]:\n",
        "                    pygame.draw.rect(win, self.color, (self.x + col * BLOCK_SIZE, self.y + row * BLOCK_SIZE, BLOCK_SIZE, BLOCK_SIZE))\n",
        "\n",
        "    def move(self, dx, dy):\n",
        "        self.x += dx\n",
        "        self.y += dy\n",
        "\n",
        "    def rotate(self):\n",
        "        self.shape = list(zip(*reversed(self.shape)))\n",
        "\n",
        "# 主循环\n",
        "def main():\n",
        "    clock = pygame.time.Clock()\n",
        "    tetromino = Tetromino(WIDTH // 2 - BLOCK_SIZE, 0)\n",
        "    game_over = False\n",
        "\n",
        "    while not game_over:\n",
        "        for event in pygame.event.get():\n",
        "            if event.type == pygame.QUIT:\n",
        "                game_over = True\n",
        "            if event.type == pygame.KEYDOWN:\n",
        "                if event.key == pygame.K_LEFT:\n",
        "                    tetromino.move(-BLOCK_SIZE, 0)\n",
        "                if event.key == pygame.K_RIGHT:\n",
        "                    tetromino.move(BLOCK_SIZE, 0)\n",
        "                if event.key == pygame.K_DOWN:\n",
        "                    tetromino.move(0, BLOCK_SIZE)\n",
        "                if event.key == pygame.K_UP:\n",
        "                    tetromino.rotate()\n",
        "\n",
        "        # 移动俄罗斯方块向下\n",
        "        tetromino.move(0, BLOCK_SIZE)\n",
        "\n",
        "        # 清除满行\n",
        "        for row in range(len(grid)):\n",
        "            if all(grid[row]):\n",
        "                del grid[row]\n",
        "                grid.insert(0, [0] * (WIDTH // BLOCK_SIZE))\n",
        "\n",
        "        # 检测碰撞\n",
        "        for row in range(len(tetromino.shape)):\n",
        "            for col in range(len(tetromino.shape[row])):\n",
        "                if tetromino.shape[row][col]:\n",
        "                    grid_row = (tetromino.y + row) // BLOCK_SIZE\n",
        "                    grid_col = (tetromino.x + col * BLOCK_SIZE) // BLOCK_SIZE\n",
        "                    if grid_row >= len(grid) or grid_col < 0 or grid_col >= len(grid[0]) or grid[grid_row][grid_col]:\n",
        "                        game_over = True\n",
        "\n",
        "        # 更新窗口\n",
        "        win.fill(WHITE)\n",
        "        tetromino.draw()\n",
        "        for row in range(len(grid)):\n",
        "            for col in range(len(grid[row])):\n",
        "                if grid[row][col]:\n",
        "                    pygame.draw.rect(win, (0, 0, 0), (col * BLOCK_SIZE, row * BLOCK_SIZE, BLOCK_SIZE, BLOCK_SIZE), 1)\n",
        "        pygame.display.update()\n",
        "        clock.tick(5)  # 控制速度\n",
        "\n",
        "    pygame.quit()\n",
        "    quit()"
      ]
    }
  ]
}